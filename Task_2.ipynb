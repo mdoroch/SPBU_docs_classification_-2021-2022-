{
 "cells": [
  {
   "cell_type": "code",
   "execution_count": 2,
   "metadata": {},
   "outputs": [],
   "source": [
    "import numpy as np\n",
    "import scipy as sp\n",
    "import matplotlib.pyplot as plt\n",
    "import seaborn as sns\n",
    "\n",
    "%matplotlib inline"
   ]
  },
  {
   "cell_type": "markdown",
   "metadata": {},
   "source": [
    "# 1. Работа с массивами NumPy"
   ]
  },
  {
   "cell_type": "markdown",
   "metadata": {},
   "source": [
    "**N. Все упражнения ниже нужно делать без использования циклов Python**\n",
    "\n",
    "**1.** Cоздать вектор\n",
    "\n",
    "$$(2, \\frac{2^2}{2}, \\ldots, \\frac{2^{20}}{20})$$\n",
    "\n",
    "Можно использовать функции [np.arange()](http://docs.scipy.org/doc/numpy/reference/generated/numpy.arange.html), [np.ones()](http://docs.scipy.org/doc/numpy/reference/generated/numpy.ones.html)"
   ]
  },
  {
   "cell_type": "code",
   "execution_count": 11,
   "metadata": {},
   "outputs": [
    {
     "data": {
      "text/plain": [
       "array([2.00000000e+00, 2.00000000e+00, 2.66666667e+00, 4.00000000e+00,\n",
       "       6.40000000e+00, 1.06666667e+01, 1.82857143e+01, 3.20000000e+01,\n",
       "       5.68888889e+01, 1.02400000e+02, 1.86181818e+02, 3.41333333e+02,\n",
       "       6.30153846e+02, 1.17028571e+03, 2.18453333e+03, 4.09600000e+03,\n",
       "       7.71011765e+03, 1.45635556e+04, 2.75941053e+04, 5.24288000e+04])"
      ]
     },
     "execution_count": 11,
     "metadata": {},
     "output_type": "execute_result"
    }
   ],
   "source": [
    "## your code\n",
    "a = np.ones(20)\n",
    "s = np.arange(1,21,1)\n",
    "((2*a)**s)/s"
   ]
  },
  {
   "cell_type": "markdown",
   "metadata": {},
   "source": [
    "**2.** Посчитать:\n",
    "\n",
    "$$\\sum\\limits_{i=0}^{5}{0.1^{3i}0.2^{4i}}$$\n"
   ]
  },
  {
   "cell_type": "code",
   "execution_count": 15,
   "metadata": {},
   "outputs": [
    {
     "data": {
      "text/plain": [
       "1.00000160000256"
      ]
     },
     "execution_count": 15,
     "metadata": {},
     "output_type": "execute_result"
    }
   ],
   "source": [
    "## your code\n",
    "s = np.arange(0,5,1)\n",
    "((0.1**(3*s))*(0.2**(4*s))).sum()"
   ]
  },
  {
   "cell_type": "markdown",
   "metadata": {},
   "source": [
    "**3.** Создать нулевую матрицe $8 \\times 8$, и заполнить её единицами в шахматном порядке."
   ]
  },
  {
   "cell_type": "code",
   "execution_count": 29,
   "metadata": {},
   "outputs": [
    {
     "name": "stdout",
     "output_type": "stream",
     "text": [
      "[[0. 1. 0. 1. 0. 1. 0. 1.]\n",
      " [1. 0. 1. 0. 1. 0. 1. 0.]\n",
      " [0. 1. 0. 1. 0. 1. 0. 1.]\n",
      " [1. 0. 1. 0. 1. 0. 1. 0.]\n",
      " [0. 1. 0. 1. 0. 1. 0. 1.]\n",
      " [1. 0. 1. 0. 1. 0. 1. 0.]\n",
      " [0. 1. 0. 1. 0. 1. 0. 1.]\n",
      " [1. 0. 1. 0. 1. 0. 1. 0.]]\n"
     ]
    }
   ],
   "source": [
    "## your code\n",
    "mat = np.zeros((8,8))\n",
    "mat[1::2,::2] = 1\n",
    "mat[::2,1::2] = 1\n",
    "print(mat)"
   ]
  },
  {
   "cell_type": "markdown",
   "metadata": {},
   "source": [
    "**4.** Есть 5 точек в декартовой системе координат (в виде матрицы $X$ размерностью $5 \\times 2$), сконвертируйте эти точки в полярную систему координат."
   ]
  },
  {
   "cell_type": "code",
   "execution_count": 34,
   "metadata": {},
   "outputs": [
    {
     "name": "stdout",
     "output_type": "stream",
     "text": [
      "[[0.54331307 1.39333656]\n",
      " [0.85163172 0.19713846]\n",
      " [0.81935428 1.47549839]\n",
      " [1.24867737 0.77997126]\n",
      " [0.87160556 1.53953606]]\n"
     ]
    }
   ],
   "source": [
    "X = np.random.random((5, 2))\n",
    "def transform(X):\n",
    "    r = np.sqrt(np.sum(X**2, axis=1)).reshape(-1, 1)\n",
    "    fi = np.arctan2(X[:, 1], X[:, 0]).reshape(-1, 1)\n",
    "    return np.concatenate((r, fi), axis=1)\n",
    "\n",
    "print(transform(X))\n",
    "## your code"
   ]
  },
  {
   "cell_type": "markdown",
   "metadata": {},
   "source": [
    "**5.** Найдите индексы максимального элемента в случайной матрице $10 \\times 10$.\n",
    "\n",
    "Cм. [np.argmax()](http://docs.scipy.org/doc/numpy/reference/generated/numpy.argmax.html)."
   ]
  },
  {
   "cell_type": "code",
   "execution_count": 53,
   "metadata": {},
   "outputs": [
    {
     "name": "stdout",
     "output_type": "stream",
     "text": [
      "1 7\n"
     ]
    }
   ],
   "source": [
    "X = np.random.random((10, 10))\n",
    "s = np.argmax(X)\n",
    "print(s//10, s%10) #mod div\n",
    "## your code"
   ]
  },
  {
   "cell_type": "markdown",
   "metadata": {},
   "source": [
    "**6.** Есть 10 точек ($X$) и ещё одна ($y$). Найти в $X$ ближайшую к $y$ точку."
   ]
  },
  {
   "cell_type": "code",
   "execution_count": 36,
   "metadata": {},
   "outputs": [
    {
     "name": "stdout",
     "output_type": "stream",
     "text": [
      "[0.22447375 0.76067931]\n"
     ]
    }
   ],
   "source": [
    "X = np.random.random((10, 2))\n",
    "y = np.random.random((1, 2))\n",
    "pnt2 = np.argmin(np.sqrt(np.sum((X-y)**2, axis=1)))\n",
    "print(X[pnt])\n",
    "## your code"
   ]
  },
  {
   "cell_type": "markdown",
   "metadata": {},
   "source": [
    "**7.** Дана функция:\n",
    "\n",
    "$$\n",
    " \\begin{cases}\n",
    "    x^2 + 2x + 6, & x < 0  \\\\\n",
    "    x + 6, & 0 \\le x \\le 2 \\\\\n",
    "    x^2 + 4x - 4, & x \\ge 2\n",
    " \\end{cases}\n",
    "$$\n",
    "\n",
    "Постройте массив из её значений на  $-3 \\le x \\le 3$."
   ]
  },
  {
   "cell_type": "code",
   "execution_count": 51,
   "metadata": {},
   "outputs": [
    {
     "data": {
      "text/plain": [
       "array([ 9.  ,  8.61,  8.24,  7.89,  7.56,  7.25,  6.96,  6.69,  6.44,\n",
       "        6.21,  6.  ,  5.81,  5.64,  5.49,  5.36,  5.25,  5.16,  5.09,\n",
       "        5.04,  5.01,  5.  ,  5.01,  5.04,  5.09,  5.16,  5.25,  5.36,\n",
       "        5.49,  5.64,  5.81,  6.  ,  6.1 ,  6.2 ,  6.3 ,  6.4 ,  6.5 ,\n",
       "        6.6 ,  6.7 ,  6.8 ,  6.9 ,  7.  ,  7.1 ,  7.2 ,  7.3 ,  7.4 ,\n",
       "        7.5 ,  7.6 ,  7.7 ,  7.8 ,  7.9 ,  8.  ,  8.81,  9.64, 10.49,\n",
       "       11.36, 12.25, 13.16, 14.09, 15.04, 16.01, 17.  , 18.01, 19.04,\n",
       "       20.09, 21.16, 22.25, 23.36, 24.49, 25.64, 26.81])"
      ]
     },
     "execution_count": 51,
     "metadata": {},
     "output_type": "execute_result"
    }
   ],
   "source": [
    "## your code\n",
    "@np.vectorize\n",
    "def f(x):\n",
    "    if x < 0:\n",
    "        return x**2 + 2*x + 6\n",
    "    if 0 <= x <= 2:\n",
    "        return x + 6\n",
    "    if x >= 2:\n",
    "        return x**2 + 4*x - 4\n",
    "\n",
    "pts = np.arange(-3,4,0.1) \n",
    "f(pts) "
   ]
  },
  {
   "cell_type": "markdown",
   "metadata": {},
   "source": [
    "**8.** Из каждого элемента матрицы вычесть среднее арифметическое от всех элементов в соответствующей строке (после чего среднее значение каждой строки должно равняться нулю).\n",
    "\n",
    "Cм. [np.mean()](http://docs.scipy.org/doc/numpy/reference/generated/numpy.mean.html)."
   ]
  },
  {
   "cell_type": "code",
   "execution_count": 37,
   "metadata": {},
   "outputs": [
    {
     "data": {
      "text/plain": [
       "array([[ 0.31309948,  0.02477032,  0.58944749,  0.28913762,  0.19985475,\n",
       "        -0.11229132, -0.24913122, -0.10277723,  0.40109111, -0.26500657],\n",
       "       [ 0.25490286, -0.32227034,  0.27566975, -0.15101021, -0.0159015 ,\n",
       "         0.35702568,  0.31697728,  0.17162613, -0.41408241, -0.04774967],\n",
       "       [ 0.18535117,  0.09952694,  0.02754376, -0.36364246, -0.25154636,\n",
       "        -0.22500162, -0.39004283, -0.34351609, -0.23470655,  0.06466322],\n",
       "       [ 0.00693548, -0.30900049,  0.48981869, -0.22400503, -0.49508189,\n",
       "         0.58673403,  0.4121853 ,  0.23065987, -0.30180942,  0.50705203],\n",
       "       [-0.38441047,  0.02071147,  0.00066826,  0.07235382, -0.28881984,\n",
       "        -0.27761912,  0.00968631,  0.24424455,  0.52227924,  0.50545068],\n",
       "       [-0.25158176,  0.3240385 , -0.08653605, -0.41486836, -0.29436783,\n",
       "        -0.03070261, -0.03965181,  0.03714701,  0.06475521, -0.35186603],\n",
       "       [-0.17537682,  0.10644373, -0.25098199, -0.25065741, -0.51579784,\n",
       "         0.1920735 ,  0.31889161,  0.40198359,  0.41690927,  0.23965736],\n",
       "       [-0.10676184,  0.12489243,  0.14014248,  0.02362844,  0.16953677,\n",
       "        -0.26434524, -0.22842064,  0.16430855,  0.43832722, -0.16543086],\n",
       "       [ 0.05047202, -0.05227775,  0.23072366, -0.33858672, -0.10296351,\n",
       "         0.27196646, -0.30790249, -0.51582058,  0.48408154, -0.12975843],\n",
       "       [ 0.04231982, -0.52632002, -0.02116761, -0.20487129, -0.18854994,\n",
       "         0.38986013, -0.1297181 , -0.10120436,  0.03526259, -0.03097868]])"
      ]
     },
     "execution_count": 37,
     "metadata": {},
     "output_type": "execute_result"
    }
   ],
   "source": [
    "X = np.random.random((10, 10))\n",
    "X - X.mean(axis=1)\n",
    "## your code"
   ]
  },
  {
   "cell_type": "markdown",
   "metadata": {},
   "source": [
    "**9.** Есть массив из 1000 чисел, полученных из генератора случайных чисел, имеющий нормальное распределение. Посчитайте выборочное среднее и выборочную дисперсию. "
   ]
  },
  {
   "cell_type": "code",
   "execution_count": 39,
   "metadata": {},
   "outputs": [
    {
     "name": "stdout",
     "output_type": "stream",
     "text": [
      "4.895283595147213 4.0467526675783985\n"
     ]
    }
   ],
   "source": [
    "X = np.random.normal(loc=5, scale=2., size=1000)\n",
    "print(X.mean(),X.var())"
   ]
  },
  {
   "cell_type": "markdown",
   "metadata": {},
   "source": [
    "**10.** Создать матрицу:\n",
    "\n",
    "$$\n",
    "\\begin{pmatrix}\n",
    "0 & 1 & 2 & 3 & 4 \\\\\n",
    "1 & 2 & 3 & 4 & 0 \\\\\n",
    "2 & 3 & 4 & 0 & 1 \\\\\n",
    "3 & 4 & 0 & 1 & 2 \\\\\n",
    "4 & 0 & 1 & 2 & 3\n",
    "\\end{pmatrix}\n",
    "$$"
   ]
  },
  {
   "cell_type": "code",
   "execution_count": 56,
   "metadata": {},
   "outputs": [
    {
     "data": {
      "text/plain": [
       "array([[0, 1, 2, 3, 4],\n",
       "       [1, 2, 3, 4, 0],\n",
       "       [2, 3, 4, 0, 1],\n",
       "       [3, 4, 0, 1, 2],\n",
       "       [4, 0, 1, 2, 3]])"
      ]
     },
     "execution_count": 56,
     "metadata": {},
     "output_type": "execute_result"
    }
   ],
   "source": [
    "## your code\n",
    "X = np.arange(0,5,1) \n",
    "X = np.append(X, [np.roll(X, -1), np.roll(X, -2), np.roll(X, -3), np.roll(X, -4)]).reshape(5,5)\n",
    "print(X)"
   ]
  },
  {
   "cell_type": "markdown",
   "metadata": {},
   "source": [
    "**11.** Есть следующий алгоритм семплинирования, на вход функции подается вектор из целых положительных чисел и число семплов."
   ]
  },
  {
   "cell_type": "code",
   "execution_count": 60,
   "metadata": {},
   "outputs": [
    {
     "data": {
      "text/plain": [
       "[4, 4, 4, 0, 4]"
      ]
     },
     "execution_count": 60,
     "metadata": {},
     "output_type": "execute_result"
    }
   ],
   "source": [
    "def sample(x, c):\n",
    "    assert len(x) > 0\n",
    "    \n",
    "    s = np.sum(x)\n",
    "    res = []\n",
    "    for _ in range(c):\n",
    "        val = s * np.random.random()\n",
    "        cur, idx = 0, 0        \n",
    "        while cur + x[idx] <= val:\n",
    "            cur += x[idx]\n",
    "            idx += 1\n",
    "            \n",
    "        res.append(idx)\n",
    "    return res\n",
    "\n",
    "            \n",
    "sample([50, 3, 1, 7, 20], 5)    "
   ]
  },
  {
   "cell_type": "markdown",
   "metadata": {},
   "source": [
    "Реализуйте данный алгоритм более оптимальным способом, без использования циклов."
   ]
  },
  {
   "cell_type": "code",
   "execution_count": 62,
   "metadata": {},
   "outputs": [
    {
     "data": {
      "text/plain": [
       "[0, 4, 0, 4, 0]"
      ]
     },
     "execution_count": 62,
     "metadata": {},
     "output_type": "execute_result"
    }
   ],
   "source": [
    "## your code\n",
    "def sample_new(x, c):\n",
    "    assert len(x) > 0\n",
    "    s = np.cumsum(x) \n",
    "    summ = np.sum(x) \n",
    "    res = summ * np.random.random(c)\n",
    "    argmax = (res.reshape(-1, 1) < s).argmax(axis=1)   \n",
    "    return argmax.tolist()\n",
    "    \n",
    "sample_new([50, 3, 1, 7, 20], 5)"
   ]
  },
  {
   "cell_type": "code",
   "execution_count": null,
   "metadata": {},
   "outputs": [],
   "source": []
  }
 ],
 "metadata": {
  "kernelspec": {
   "display_name": "Python 3",
   "language": "python",
   "name": "python3"
  },
  "language_info": {
   "codemirror_mode": {
    "name": "ipython",
    "version": 3
   },
   "file_extension": ".py",
   "mimetype": "text/x-python",
   "name": "python",
   "nbconvert_exporter": "python",
   "pygments_lexer": "ipython3",
   "version": "3.9.4"
  }
 },
 "nbformat": 4,
 "nbformat_minor": 4
}